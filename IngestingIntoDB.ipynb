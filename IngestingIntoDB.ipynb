{
 "cells": [
  {
   "cell_type": "code",
   "execution_count": 1,
   "id": "9a319d20",
   "metadata": {},
   "outputs": [
    {
     "name": "stdout",
     "output_type": "stream",
     "text": [
      "276 distinct samples\n"
     ]
    }
   ],
   "source": [
    "import csv\n",
    "\n",
    "file_name = 'data/WHONDRS_S19S_Sediment_GrainSize.csv'\n",
    "\n",
    "# checking if sample_id (line[1]) is the unique column\n",
    "\n",
    "with open(file_name) as csv_file:\n",
    "    csv_reader = csv.reader(csv_file, delimiter=',')\n",
    "    line_count = 0\n",
    "    sample_id_set = set()\n",
    "    for line in csv_reader:\n",
    "        if line_count != 0:\n",
    "            sample_id_set.add(line[1])\n",
    "        line_count += 1\n",
    "\n",
    "    print(f'{len(sample_id_set)} distinct samples') \n",
    "    # 276 distinct samples\n",
    "    # Confirms that sample_id is the unique identifier for each row\n",
    "    "
   ]
  },
  {
   "cell_type": "code",
   "execution_count": 2,
   "id": "f4773cdf",
   "metadata": {},
   "outputs": [
    {
     "name": "stdout",
     "output_type": "stream",
     "text": [
      "False\n",
      "True\n",
      "Study_Code             WHONDRS_S19S\n",
      "Percent_Fine_Sand               5.4\n",
      "Percent_Med_Sand                NaN\n",
      "Percent_Coarse_Sand            81.6\n",
      "Percent_Tot_Sand                NaN\n",
      "Percent_Clay                    5.7\n",
      "Percent_Silt                    NaN\n",
      "Name: S19S_0026_BULK-M, dtype: object\n"
     ]
    }
   ],
   "source": [
    "import pandas as pd\n",
    "\n",
    "df = pd.read_csv (file_name, index_col='Sample_ID')\n",
    "\n",
    "print(df.isnull().values.any()) # False\n",
    "# confirms that there are no nulls in the data\n",
    "\n",
    "df = pd.read_csv (file_name, index_col='Sample_ID', na_values=['-9999'])\n",
    "print(df.isnull().values.any()) # True\n",
    "# confirms that -9990 are treated as null\n",
    "\n",
    "print(df.loc['S19S_0026_BULK-M']) # Checking whether the row containing -9999s is treated with NaN values"
   ]
  },
  {
   "cell_type": "code",
   "execution_count": 3,
   "id": "25bc3aa6",
   "metadata": {},
   "outputs": [
    {
     "data": {
      "text/plain": [
       "<pymongo.results.InsertManyResult at 0x7fe1f8978ee0>"
      ]
     },
     "execution_count": 3,
     "metadata": {},
     "output_type": "execute_result"
    }
   ],
   "source": [
    "import pymongo\n",
    "from pymongo import MongoClient\n",
    "\n",
    "with open(\"secret.txt\") as secret_file:\n",
    "    uri = secret_file.readline()\n",
    "\n",
    "client = MongoClient(uri)\n",
    "\n",
    "db = client[\"berkeley\"]\n",
    "collection = db[\"sediment_grain_size\"]\n",
    "\n",
    "df.reset_index(inplace=True)\n",
    "data_dict = df.to_dict(\"records\")\n",
    "collection.insert_many(data_dict)"
   ]
  },
  {
   "cell_type": "code",
   "execution_count": 4,
   "id": "d00b0e21",
   "metadata": {},
   "outputs": [
    {
     "name": "stdout",
     "output_type": "stream",
     "text": [
      "{'_id': ObjectId('643f0933da1bf97fdf649fa4'), 'Sample_ID': 'S19S_0004_BULK-D', 'Study_Code': 'WHONDRS_S19S', 'Percent_Fine_Sand': 20.1, 'Percent_Med_Sand': 34.1, 'Percent_Coarse_Sand': 26.8, 'Percent_Tot_Sand': 81.0, 'Percent_Clay': 0.0, 'Percent_Silt': 19.0}\n"
     ]
    }
   ],
   "source": [
    "data_from_db = collection.find_one({\"Sample_ID\": \"S19S_0004_BULK-D\"})\n",
    "df = pd.DataFrame(list(data_from_db))\n",
    "print(data_from_db)"
   ]
  },
  {
   "cell_type": "code",
   "execution_count": null,
   "id": "907fe1cd",
   "metadata": {},
   "outputs": [],
   "source": []
  }
 ],
 "metadata": {
  "kernelspec": {
   "display_name": "Python 3 (ipykernel)",
   "language": "python",
   "name": "python3"
  },
  "language_info": {
   "codemirror_mode": {
    "name": "ipython",
    "version": 3
   },
   "file_extension": ".py",
   "mimetype": "text/x-python",
   "name": "python",
   "nbconvert_exporter": "python",
   "pygments_lexer": "ipython3",
   "version": "3.9.16"
  }
 },
 "nbformat": 4,
 "nbformat_minor": 5
}
